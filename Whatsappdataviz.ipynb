{
  "nbformat": 4,
  "nbformat_minor": 0,
  "metadata": {
    "colab": {
      "name": "Whatsappdataviz.ipynb",
      "provenance": [],
      "collapsed_sections": []
    },
    "kernelspec": {
      "display_name": "Python 3",
      "name": "python3"
    }
  },
  "cells": [
    {
      "cell_type": "code",
      "metadata": {
        "id": "luSZ4SpMLqAH",
        "colab": {
          "base_uri": "https://localhost:8080/"
        },
        "outputId": "54791f43-a989-441d-85ba-5149e3332065"
      },
      "source": [
        "#mount drive\n",
        "from google.colab import drive\n",
        "drive.mount('/content/gdrive')\n"
      ],
      "execution_count": 1,
      "outputs": [
        {
          "output_type": "stream",
          "text": [
            "Mounted at /content/gdrive\n"
          ],
          "name": "stdout"
        }
      ]
    },
    {
      "cell_type": "code",
      "metadata": {
        "id": "0w14CM9JEE3U",
        "colab": {
          "base_uri": "https://localhost:8080/"
        },
        "outputId": "feecd944-ac6f-48db-8192-493afeca9124"
      },
      "source": [
        "#install emoji package\n",
        "!pip install emoji \n",
        "!pip install emoji --upgrade"
      ],
      "execution_count": 2,
      "outputs": [
        {
          "output_type": "stream",
          "text": [
            "Collecting emoji\n",
            "\u001b[?25l  Downloading https://files.pythonhosted.org/packages/24/fa/b3368f41b95a286f8d300e323449ab4e86b85334c2e0b477e94422b8ed0f/emoji-1.2.0-py3-none-any.whl (131kB)\n",
            "\r\u001b[K     |██▌                             | 10kB 15.4MB/s eta 0:00:01\r\u001b[K     |█████                           | 20kB 18.0MB/s eta 0:00:01\r\u001b[K     |███████▌                        | 30kB 10.4MB/s eta 0:00:01\r\u001b[K     |██████████                      | 40kB 9.0MB/s eta 0:00:01\r\u001b[K     |████████████▌                   | 51kB 5.4MB/s eta 0:00:01\r\u001b[K     |███████████████                 | 61kB 5.5MB/s eta 0:00:01\r\u001b[K     |█████████████████▌              | 71kB 6.2MB/s eta 0:00:01\r\u001b[K     |████████████████████            | 81kB 6.6MB/s eta 0:00:01\r\u001b[K     |██████████████████████▌         | 92kB 6.8MB/s eta 0:00:01\r\u001b[K     |█████████████████████████       | 102kB 5.2MB/s eta 0:00:01\r\u001b[K     |███████████████████████████▌    | 112kB 5.2MB/s eta 0:00:01\r\u001b[K     |██████████████████████████████  | 122kB 5.2MB/s eta 0:00:01\r\u001b[K     |████████████████████████████████| 133kB 5.2MB/s \n",
            "\u001b[?25hInstalling collected packages: emoji\n",
            "Successfully installed emoji-1.2.0\n",
            "Requirement already up-to-date: emoji in /usr/local/lib/python3.6/dist-packages (1.2.0)\n"
          ],
          "name": "stdout"
        }
      ]
    },
    {
      "cell_type": "code",
      "metadata": {
        "id": "r2i3uoFnu628"
      },
      "source": [
        "#imports\n",
        "import re\n",
        "import pandas as pd\n",
        "import matplotlib.pyplot as plt\n",
        "import emoji\n",
        "from datetime import datetime\n",
        "import matplotlib.pyplot as plt\n",
        "import pandas as pd\n",
        "import seaborn as sns\n",
        "% matplotlib inline"
      ],
      "execution_count": 27,
      "outputs": []
    },
    {
      "cell_type": "markdown",
      "metadata": {
        "id": "LLnQA3ll5LUZ"
      },
      "source": [
        "<h1><strong>Data Pre-processing</strong></h1>"
      ]
    },
    {
      "cell_type": "code",
      "metadata": {
        "id": "edeP6u3YYaEk"
      },
      "source": [
        "#check if line starts with date\n",
        "def date_first(text):\n",
        "    try:\n",
        "        datetime.strptime(text,\"%m/%d/%y\")\n",
        "        return True\n",
        "    except Exception as e:\n",
        "        return False    "
      ],
      "execution_count": 4,
      "outputs": []
    },
    {
      "cell_type": "code",
      "metadata": {
        "id": "X9-0FzsTHcte"
      },
      "source": [
        "#file directory\n",
        "chat_dir=\"/content/gdrive/MyDrive/chat_data.txt\"\n",
        "\n",
        "#open and read file\n",
        "with open(chat_dir) as f:\n",
        "    chat_data = f.readlines()"
      ],
      "execution_count": 5,
      "outputs": []
    },
    {
      "cell_type": "code",
      "metadata": {
        "id": "76PIBbI7bZ3j",
        "colab": {
          "base_uri": "https://localhost:8080/"
        },
        "outputId": "288e307c-d118-4390-8e38-adf7eba13767"
      },
      "source": [
        "#create a list of  all the lines in the text file \n",
        "data=[\"\"]\n",
        "for line in chat_data:\n",
        "    if date_first(line.split(',')[0]):\n",
        "        data.append(line.strip(\"\\n\"))\n",
        "    else:\n",
        "        data[len(data)-1] += \" \" + line.strip('\\n')\n",
        "#display the data list\n",
        "data[:3]        "
      ],
      "execution_count": 6,
      "outputs": [
        {
          "output_type": "execute_result",
          "data": {
            "text/plain": [
              "[' \\ufeff2/21/19, 07:50 - +254 713 888694 created group \"S13/Compsci/16👨\\u200d💻.\"',\n",
              " '2/21/19, 07:50 - You were added',\n",
              " '5/8/20, 11:26 - Kevin Oyanda: <Media omitted>']"
            ]
          },
          "metadata": {
            "tags": []
          },
          "execution_count": 6
        }
      ]
    },
    {
      "cell_type": "code",
      "metadata": {
        "colab": {
          "base_uri": "https://localhost:8080/",
          "height": 35
        },
        "id": "lwV1F-VTHc1s",
        "outputId": "cf32fd85-222c-41e2-c3d1-7c44ad5b28c7"
      },
      "source": [
        "#extract date\n",
        "dates=[]\n",
        "text2=[]\n",
        "for chat in data:\n",
        "    date=re.split(\"\\s\",chat,1)\n",
        "    dates.append(date[0].split(\",\")[0])\n",
        "    text2.append(date[1])\n",
        "dates[:3]\n",
        "text2[3]"
      ],
      "execution_count": 7,
      "outputs": [
        {
          "output_type": "execute_result",
          "data": {
            "application/vnd.google.colaboratory.intrinsic+json": {
              "type": "string"
            },
            "text/plain": [
              "'11:27 - Shadi: 😂😂😂😂😂😂Pia unataka tubelieve hii'"
            ]
          },
          "metadata": {
            "tags": []
          },
          "execution_count": 7
        }
      ]
    },
    {
      "cell_type": "code",
      "metadata": {
        "colab": {
          "base_uri": "https://localhost:8080/",
          "height": 54
        },
        "id": "48WGswbRHc7v",
        "outputId": "47fb91bf-6dce-4996-c7e2-e47dd42bf200"
      },
      "source": [
        "#extract time\n",
        "times=[]\n",
        "text3=[]\n",
        "for chat in text2:\n",
        "    time = re.split(\"-\",chat,1)\n",
        "    times.append(time[0])\n",
        "    text3.append(time[1])\n",
        "print(times[:6])\n",
        "text3[5]   "
      ],
      "execution_count": 8,
      "outputs": [
        {
          "output_type": "stream",
          "text": [
            "['\\ufeff2/21/19, 07:50 ', '07:50 ', '11:26 ', '11:27 ', '11:32 ', '15:13 ']\n"
          ],
          "name": "stdout"
        },
        {
          "output_type": "execute_result",
          "data": {
            "application/vnd.google.colaboratory.intrinsic+json": {
              "type": "string"
            },
            "text/plain": [
              "' Jemo: 😂sisemi'"
            ]
          },
          "metadata": {
            "tags": []
          },
          "execution_count": 8
        }
      ]
    },
    {
      "cell_type": "code",
      "metadata": {
        "colab": {
          "base_uri": "https://localhost:8080/",
          "height": 35
        },
        "id": "ufu6t-ipHc-z",
        "outputId": "ec2dda87-36af-4d07-c56f-c8dbc4b426ff"
      },
      "source": [
        "#extract author\n",
        "authors=[]\n",
        "text4=[]\n",
        "for chat in text3:\n",
        "    author = re.split(\":\\s\",chat,1)\n",
        "\n",
        "    authors.append(author[0].strip())\n",
        "    text4.append(author[-1])\n",
        "\n",
        "authors[3]"
      ],
      "execution_count": 9,
      "outputs": [
        {
          "output_type": "execute_result",
          "data": {
            "application/vnd.google.colaboratory.intrinsic+json": {
              "type": "string"
            },
            "text/plain": [
              "'Shadi'"
            ]
          },
          "metadata": {
            "tags": []
          },
          "execution_count": 9
        }
      ]
    },
    {
      "cell_type": "code",
      "metadata": {
        "colab": {
          "base_uri": "https://localhost:8080/"
        },
        "id": "LhOIYc2BHdCb",
        "outputId": "cb49372d-3506-4bcd-a799-7997c2af304d"
      },
      "source": [
        "#extract message\n",
        "messages=text4\n",
        "messages[:3]"
      ],
      "execution_count": 10,
      "outputs": [
        {
          "output_type": "execute_result",
          "data": {
            "text/plain": [
              "[' +254 713 888694 created group \"S13/Compsci/16👨\\u200d💻.\"',\n",
              " ' You were added',\n",
              " '<Media omitted>']"
            ]
          },
          "metadata": {
            "tags": []
          },
          "execution_count": 10
        }
      ]
    },
    {
      "cell_type": "code",
      "metadata": {
        "colab": {
          "base_uri": "https://localhost:8080/",
          "height": 175
        },
        "id": "cCY02d2buIc5",
        "outputId": "61e910e3-e923-48a2-b72e-6c04371fbb6b"
      },
      "source": [
        "#create a dataframe\n",
        "info_tupple=zip(dates,times,authors,messages)\n",
        "df=pd.DataFrame(info_tupple,columns=['dates','times','authors','messages'])\n",
        "df.head(4)"
      ],
      "execution_count": 11,
      "outputs": [
        {
          "output_type": "execute_result",
          "data": {
            "text/html": [
              "<div>\n",
              "<style scoped>\n",
              "    .dataframe tbody tr th:only-of-type {\n",
              "        vertical-align: middle;\n",
              "    }\n",
              "\n",
              "    .dataframe tbody tr th {\n",
              "        vertical-align: top;\n",
              "    }\n",
              "\n",
              "    .dataframe thead th {\n",
              "        text-align: right;\n",
              "    }\n",
              "</style>\n",
              "<table border=\"1\" class=\"dataframe\">\n",
              "  <thead>\n",
              "    <tr style=\"text-align: right;\">\n",
              "      <th></th>\n",
              "      <th>dates</th>\n",
              "      <th>times</th>\n",
              "      <th>authors</th>\n",
              "      <th>messages</th>\n",
              "    </tr>\n",
              "  </thead>\n",
              "  <tbody>\n",
              "    <tr>\n",
              "      <th>0</th>\n",
              "      <td></td>\n",
              "      <td>﻿2/21/19, 07:50</td>\n",
              "      <td>+254 713 888694 created group \"S13/Compsci/16👨...</td>\n",
              "      <td>+254 713 888694 created group \"S13/Compsci/16...</td>\n",
              "    </tr>\n",
              "    <tr>\n",
              "      <th>1</th>\n",
              "      <td>2/21/19</td>\n",
              "      <td>07:50</td>\n",
              "      <td>You were added</td>\n",
              "      <td>You were added</td>\n",
              "    </tr>\n",
              "    <tr>\n",
              "      <th>2</th>\n",
              "      <td>5/8/20</td>\n",
              "      <td>11:26</td>\n",
              "      <td>Kevin Oyanda</td>\n",
              "      <td>&lt;Media omitted&gt;</td>\n",
              "    </tr>\n",
              "    <tr>\n",
              "      <th>3</th>\n",
              "      <td>5/8/20</td>\n",
              "      <td>11:27</td>\n",
              "      <td>Shadi</td>\n",
              "      <td>😂😂😂😂😂😂Pia unataka tubelieve hii</td>\n",
              "    </tr>\n",
              "  </tbody>\n",
              "</table>\n",
              "</div>"
            ],
            "text/plain": [
              "     dates  ...                                           messages\n",
              "0           ...   +254 713 888694 created group \"S13/Compsci/16...\n",
              "1  2/21/19  ...                                     You were added\n",
              "2   5/8/20  ...                                    <Media omitted>\n",
              "3   5/8/20  ...                    😂😂😂😂😂😂Pia unataka tubelieve hii\n",
              "\n",
              "[4 rows x 4 columns]"
            ]
          },
          "metadata": {
            "tags": []
          },
          "execution_count": 11
        }
      ]
    },
    {
      "cell_type": "code",
      "metadata": {
        "colab": {
          "base_uri": "https://localhost:8080/",
          "height": 424
        },
        "id": "DBjbmkZVuIjp",
        "outputId": "fa9fbfbb-0950-425b-e1c3-42e79e75341f"
      },
      "source": [
        "#delete rows that contain authors that were \n",
        "#removed,added,created group,changed and left.\n",
        "\n",
        "\n",
        "added=df[~df.authors.str.contains(\"added\")== False]\n",
        "removed=df[~df.authors.str.contains(\"removed\")== False]\n",
        "left=df[~df.authors.str.contains(\"left\")== False]\n",
        "changed=df[~df.authors.str.contains(\"changed\")== False]\n",
        "created=df[~df.authors.str.contains(\"created\")== False]\n",
        "joined=df[~df.authors.str.contains(\"joined\")== False]\n",
        "drops=[added,removed,left,changed,created,joined]\n",
        "\n",
        "for d in drops:\n",
        "    df=df.drop(d.index,axis=0)\n",
        "\n",
        "df"
      ],
      "execution_count": 12,
      "outputs": [
        {
          "output_type": "execute_result",
          "data": {
            "text/html": [
              "<div>\n",
              "<style scoped>\n",
              "    .dataframe tbody tr th:only-of-type {\n",
              "        vertical-align: middle;\n",
              "    }\n",
              "\n",
              "    .dataframe tbody tr th {\n",
              "        vertical-align: top;\n",
              "    }\n",
              "\n",
              "    .dataframe thead th {\n",
              "        text-align: right;\n",
              "    }\n",
              "</style>\n",
              "<table border=\"1\" class=\"dataframe\">\n",
              "  <thead>\n",
              "    <tr style=\"text-align: right;\">\n",
              "      <th></th>\n",
              "      <th>dates</th>\n",
              "      <th>times</th>\n",
              "      <th>authors</th>\n",
              "      <th>messages</th>\n",
              "    </tr>\n",
              "  </thead>\n",
              "  <tbody>\n",
              "    <tr>\n",
              "      <th>2</th>\n",
              "      <td>5/8/20</td>\n",
              "      <td>11:26</td>\n",
              "      <td>Kevin Oyanda</td>\n",
              "      <td>&lt;Media omitted&gt;</td>\n",
              "    </tr>\n",
              "    <tr>\n",
              "      <th>3</th>\n",
              "      <td>5/8/20</td>\n",
              "      <td>11:27</td>\n",
              "      <td>Shadi</td>\n",
              "      <td>😂😂😂😂😂😂Pia unataka tubelieve hii</td>\n",
              "    </tr>\n",
              "    <tr>\n",
              "      <th>4</th>\n",
              "      <td>5/8/20</td>\n",
              "      <td>11:32</td>\n",
              "      <td>Kevin Oyanda</td>\n",
              "      <td>😂yeah I just spoke to him yesternight and he c...</td>\n",
              "    </tr>\n",
              "    <tr>\n",
              "      <th>5</th>\n",
              "      <td>5/8/20</td>\n",
              "      <td>15:13</td>\n",
              "      <td>Jemo</td>\n",
              "      <td>😂sisemi</td>\n",
              "    </tr>\n",
              "    <tr>\n",
              "      <th>6</th>\n",
              "      <td>5/8/20</td>\n",
              "      <td>17:05</td>\n",
              "      <td>Jano</td>\n",
              "      <td>Mimi nimebelieve🤜</td>\n",
              "    </tr>\n",
              "    <tr>\n",
              "      <th>...</th>\n",
              "      <td>...</td>\n",
              "      <td>...</td>\n",
              "      <td>...</td>\n",
              "      <td>...</td>\n",
              "    </tr>\n",
              "    <tr>\n",
              "      <th>1878</th>\n",
              "      <td>1/3/21</td>\n",
              "      <td>17:45</td>\n",
              "      <td>+254 798 425029</td>\n",
              "      <td>Sen. Ledama Olekina (@ledamalekina) Tweeted: *...</td>\n",
              "    </tr>\n",
              "    <tr>\n",
              "      <th>1879</th>\n",
              "      <td>1/5/21</td>\n",
              "      <td>11:36</td>\n",
              "      <td>Jakie</td>\n",
              "      <td>The University of Pennsylvania Center for Lear...</td>\n",
              "    </tr>\n",
              "    <tr>\n",
              "      <th>1880</th>\n",
              "      <td>1/5/21</td>\n",
              "      <td>13:52</td>\n",
              "      <td>Davi Odinga</td>\n",
              "      <td>Jessica Rose (@jesslynnrose) Tweeted: Tech hir...</td>\n",
              "    </tr>\n",
              "    <tr>\n",
              "      <th>1881</th>\n",
              "      <td>1/5/21</td>\n",
              "      <td>14:10</td>\n",
              "      <td>+254 757 255710</td>\n",
              "      <td>Triplebyte run engineering interviews without ...</td>\n",
              "    </tr>\n",
              "    <tr>\n",
              "      <th>1882</th>\n",
              "      <td>1/5/21</td>\n",
              "      <td>14:35</td>\n",
              "      <td>Steve Oyeyo</td>\n",
              "      <td>Hello all, our organization (http://www.innove...</td>\n",
              "    </tr>\n",
              "  </tbody>\n",
              "</table>\n",
              "<p>1834 rows × 4 columns</p>\n",
              "</div>"
            ],
            "text/plain": [
              "       dates  ...                                           messages\n",
              "2     5/8/20  ...                                    <Media omitted>\n",
              "3     5/8/20  ...                    😂😂😂😂😂😂Pia unataka tubelieve hii\n",
              "4     5/8/20  ...  😂yeah I just spoke to him yesternight and he c...\n",
              "5     5/8/20  ...                                            😂sisemi\n",
              "6     5/8/20  ...                                  Mimi nimebelieve🤜\n",
              "...      ...  ...                                                ...\n",
              "1878  1/3/21  ...  Sen. Ledama Olekina (@ledamalekina) Tweeted: *...\n",
              "1879  1/5/21  ...  The University of Pennsylvania Center for Lear...\n",
              "1880  1/5/21  ...  Jessica Rose (@jesslynnrose) Tweeted: Tech hir...\n",
              "1881  1/5/21  ...  Triplebyte run engineering interviews without ...\n",
              "1882  1/5/21  ...  Hello all, our organization (http://www.innove...\n",
              "\n",
              "[1834 rows x 4 columns]"
            ]
          },
          "metadata": {
            "tags": []
          },
          "execution_count": 12
        }
      ]
    },
    {
      "cell_type": "code",
      "metadata": {
        "id": "rZrE2nuuuItS"
      },
      "source": [
        "#replace the unknown authors(authors that have phone numbers as names) with 'anonymous+number' \n",
        "number_authors=df.loc[df['authors'].str[0].isin(['+']),'authors']\n",
        "number_authors=number_authors.unique()\n",
        "for i,number in enumerate(number_authors):\n",
        "    df.authors=df.authors.replace(number,'anonymus'+ str(i))\n"
      ],
      "execution_count": 13,
      "outputs": []
    },
    {
      "cell_type": "code",
      "metadata": {
        "id": "ssR7udfET-i1",
        "colab": {
          "base_uri": "https://localhost:8080/",
          "height": 206
        },
        "outputId": "d5ed4952-a929-4da5-b610-5d01117fbd8e"
      },
      "source": [
        "#only take the authors first name \n",
        "df.authors=df.authors.str.split(\" \",n=1,expand=True)\n",
        "df.head(5)"
      ],
      "execution_count": 14,
      "outputs": [
        {
          "output_type": "execute_result",
          "data": {
            "text/html": [
              "<div>\n",
              "<style scoped>\n",
              "    .dataframe tbody tr th:only-of-type {\n",
              "        vertical-align: middle;\n",
              "    }\n",
              "\n",
              "    .dataframe tbody tr th {\n",
              "        vertical-align: top;\n",
              "    }\n",
              "\n",
              "    .dataframe thead th {\n",
              "        text-align: right;\n",
              "    }\n",
              "</style>\n",
              "<table border=\"1\" class=\"dataframe\">\n",
              "  <thead>\n",
              "    <tr style=\"text-align: right;\">\n",
              "      <th></th>\n",
              "      <th>dates</th>\n",
              "      <th>times</th>\n",
              "      <th>authors</th>\n",
              "      <th>messages</th>\n",
              "    </tr>\n",
              "  </thead>\n",
              "  <tbody>\n",
              "    <tr>\n",
              "      <th>2</th>\n",
              "      <td>5/8/20</td>\n",
              "      <td>11:26</td>\n",
              "      <td>Kevin</td>\n",
              "      <td>&lt;Media omitted&gt;</td>\n",
              "    </tr>\n",
              "    <tr>\n",
              "      <th>3</th>\n",
              "      <td>5/8/20</td>\n",
              "      <td>11:27</td>\n",
              "      <td>Shadi</td>\n",
              "      <td>😂😂😂😂😂😂Pia unataka tubelieve hii</td>\n",
              "    </tr>\n",
              "    <tr>\n",
              "      <th>4</th>\n",
              "      <td>5/8/20</td>\n",
              "      <td>11:32</td>\n",
              "      <td>Kevin</td>\n",
              "      <td>😂yeah I just spoke to him yesternight and he c...</td>\n",
              "    </tr>\n",
              "    <tr>\n",
              "      <th>5</th>\n",
              "      <td>5/8/20</td>\n",
              "      <td>15:13</td>\n",
              "      <td>Jemo</td>\n",
              "      <td>😂sisemi</td>\n",
              "    </tr>\n",
              "    <tr>\n",
              "      <th>6</th>\n",
              "      <td>5/8/20</td>\n",
              "      <td>17:05</td>\n",
              "      <td>Jano</td>\n",
              "      <td>Mimi nimebelieve🤜</td>\n",
              "    </tr>\n",
              "  </tbody>\n",
              "</table>\n",
              "</div>"
            ],
            "text/plain": [
              "    dates   times authors                                           messages\n",
              "2  5/8/20  11:26    Kevin                                    <Media omitted>\n",
              "3  5/8/20  11:27    Shadi                    😂😂😂😂😂😂Pia unataka tubelieve hii\n",
              "4  5/8/20  11:32    Kevin  😂yeah I just spoke to him yesternight and he c...\n",
              "5  5/8/20  15:13     Jemo                                            😂sisemi\n",
              "6  5/8/20  17:05     Jano                                  Mimi nimebelieve🤜"
            ]
          },
          "metadata": {
            "tags": []
          },
          "execution_count": 14
        }
      ]
    },
    {
      "cell_type": "markdown",
      "metadata": {
        "id": "nBm_6E3z_-aZ"
      },
      "source": [
        ""
      ]
    },
    {
      "cell_type": "code",
      "metadata": {
        "colab": {
          "base_uri": "https://localhost:8080/",
          "height": 332
        },
        "id": "z2VwWLxiXmhY",
        "outputId": "14b9a8eb-2d9f-4b6a-a6a5-315795173448"
      },
      "source": [
        "#messages that were deleted\n",
        "deleted=df[~df.messages.str.contains(\"This message was deleted\")== False]\n",
        "deleted[:9]"
      ],
      "execution_count": 20,
      "outputs": [
        {
          "output_type": "execute_result",
          "data": {
            "text/html": [
              "<div>\n",
              "<style scoped>\n",
              "    .dataframe tbody tr th:only-of-type {\n",
              "        vertical-align: middle;\n",
              "    }\n",
              "\n",
              "    .dataframe tbody tr th {\n",
              "        vertical-align: top;\n",
              "    }\n",
              "\n",
              "    .dataframe thead th {\n",
              "        text-align: right;\n",
              "    }\n",
              "</style>\n",
              "<table border=\"1\" class=\"dataframe\">\n",
              "  <thead>\n",
              "    <tr style=\"text-align: right;\">\n",
              "      <th></th>\n",
              "      <th>dates</th>\n",
              "      <th>times</th>\n",
              "      <th>authors</th>\n",
              "      <th>messages</th>\n",
              "    </tr>\n",
              "  </thead>\n",
              "  <tbody>\n",
              "    <tr>\n",
              "      <th>125</th>\n",
              "      <td>6/3/20</td>\n",
              "      <td>19:56</td>\n",
              "      <td>Basam</td>\n",
              "      <td>This message was deleted</td>\n",
              "    </tr>\n",
              "    <tr>\n",
              "      <th>205</th>\n",
              "      <td>6/11/20</td>\n",
              "      <td>23:47</td>\n",
              "      <td>Anastasia</td>\n",
              "      <td>This message was deleted</td>\n",
              "    </tr>\n",
              "    <tr>\n",
              "      <th>238</th>\n",
              "      <td>6/15/20</td>\n",
              "      <td>16:00</td>\n",
              "      <td>Msembi</td>\n",
              "      <td>This message was deleted</td>\n",
              "    </tr>\n",
              "    <tr>\n",
              "      <th>272</th>\n",
              "      <td>6/20/20</td>\n",
              "      <td>08:49</td>\n",
              "      <td>Msembi</td>\n",
              "      <td>This message was deleted</td>\n",
              "    </tr>\n",
              "    <tr>\n",
              "      <th>280</th>\n",
              "      <td>6/20/20</td>\n",
              "      <td>18:49</td>\n",
              "      <td>Steve</td>\n",
              "      <td>This message was deleted</td>\n",
              "    </tr>\n",
              "    <tr>\n",
              "      <th>397</th>\n",
              "      <td>7/6/20</td>\n",
              "      <td>21:18</td>\n",
              "      <td>Msembi</td>\n",
              "      <td>This message was deleted</td>\n",
              "    </tr>\n",
              "    <tr>\n",
              "      <th>459</th>\n",
              "      <td>7/15/20</td>\n",
              "      <td>14:18</td>\n",
              "      <td>Doris</td>\n",
              "      <td>This message was deleted</td>\n",
              "    </tr>\n",
              "    <tr>\n",
              "      <th>461</th>\n",
              "      <td>7/15/20</td>\n",
              "      <td>14:20</td>\n",
              "      <td>Basam</td>\n",
              "      <td>This message was deleted</td>\n",
              "    </tr>\n",
              "    <tr>\n",
              "      <th>490</th>\n",
              "      <td>7/16/20</td>\n",
              "      <td>16:29</td>\n",
              "      <td>Basam</td>\n",
              "      <td>This message was deleted</td>\n",
              "    </tr>\n",
              "  </tbody>\n",
              "</table>\n",
              "</div>"
            ],
            "text/plain": [
              "       dates   times    authors                  messages\n",
              "125   6/3/20  19:56       Basam  This message was deleted\n",
              "205  6/11/20  23:47   Anastasia  This message was deleted\n",
              "238  6/15/20  16:00      Msembi  This message was deleted\n",
              "272  6/20/20  08:49      Msembi  This message was deleted\n",
              "280  6/20/20  18:49       Steve  This message was deleted\n",
              "397   7/6/20  21:18      Msembi  This message was deleted\n",
              "459  7/15/20  14:18       Doris  This message was deleted\n",
              "461  7/15/20  14:20       Basam  This message was deleted\n",
              "490  7/16/20  16:29       Basam  This message was deleted"
            ]
          },
          "metadata": {
            "tags": []
          },
          "execution_count": 20
        }
      ]
    },
    {
      "cell_type": "code",
      "metadata": {
        "id": "7LbeUxIpDWgh"
      },
      "source": [
        "#messages that I deleted\n",
        "you_deleted=df[~df.messages.str.contains(\"You deleted this message\")== False]"
      ],
      "execution_count": 21,
      "outputs": []
    },
    {
      "cell_type": "code",
      "metadata": {
        "id": "j4r6MqWJEGG2",
        "colab": {
          "base_uri": "https://localhost:8080/"
        },
        "outputId": "e69bf1f0-6e08-4a66-857c-deab4cf3f722"
      },
      "source": [
        "#sent media files\n",
        "media=df[~df.messages.str.contains(\"<Media omitted>\")== False]\n",
        "len(media)"
      ],
      "execution_count": 23,
      "outputs": [
        {
          "output_type": "execute_result",
          "data": {
            "text/plain": [
              "231"
            ]
          },
          "metadata": {
            "tags": []
          },
          "execution_count": 23
        }
      ]
    },
    {
      "cell_type": "code",
      "metadata": {
        "colab": {
          "base_uri": "https://localhost:8080/",
          "height": 35
        },
        "id": "8JzlUZ58Kiux",
        "outputId": "c768cd9e-6377-4636-ef6d-8f759f78bbc4"
      },
      "source": [
        "messages=list(df.messages)\n",
        "messages=' '.join(messages)\n",
        "emojies=''.join(c for c in messages if c in emoji.UNICODE_EMOJI)\n",
        "emojies\n"
      ],
      "execution_count": 25,
      "outputs": [
        {
          "output_type": "execute_result",
          "data": {
            "application/vnd.google.colaboratory.intrinsic+json": {
              "type": "string"
            },
            "text/plain": [
              "''"
            ]
          },
          "metadata": {
            "tags": []
          },
          "execution_count": 25
        }
      ]
    },
    {
      "cell_type": "code",
      "metadata": {
        "colab": {
          "base_uri": "https://localhost:8080/"
        },
        "id": "Q1rdS3RlKizU",
        "outputId": "3fd18afb-9c85-4726-bca7-c531b1b47390"
      },
      "source": [
        "from collections import Counter\n",
        "counts=dict(Counter(emojies))\n",
        "sorted(counts.items(), key=lambda x: x[1], reverse=True)"
      ],
      "execution_count": 26,
      "outputs": [
        {
          "output_type": "execute_result",
          "data": {
            "text/plain": [
              "[]"
            ]
          },
          "metadata": {
            "tags": []
          },
          "execution_count": 26
        }
      ]
    },
    {
      "cell_type": "markdown",
      "metadata": {
        "id": "AqIAqmL16gRi"
      },
      "source": [
        "<h1><strong>ANALYSIS</strong></h1>"
      ]
    },
    {
      "cell_type": "code",
      "metadata": {
        "id": "MgAoj9jjKi8L"
      },
      "source": [
        "#top authors whosent messages\n",
        "#authors who deleted the most of their messages\n",
        "#Authors who sent the lengthiest messages.\n",
        "#top emojies used"
      ],
      "execution_count": null,
      "outputs": []
    },
    {
      "cell_type": "code",
      "metadata": {
        "id": "M64shfax0wHM"
      },
      "source": [
        "def bar_graph(data_y,data_x,graph_title,y_label,x_label):\n",
        "    plt.figure()\n",
        "    sns.barplot(data_y,data_x)\n",
        "    plt.title(graph_title)\n",
        "    plt.ylabel(y_label, fontsize=12)\n",
        "    plt.xlabel(x_label, fontsize=12)\n",
        "    plt.show()\n"
      ],
      "execution_count": 30,
      "outputs": []
    },
    {
      "cell_type": "code",
      "metadata": {
        "id": "cjZ6shnbKi_V",
        "colab": {
          "base_uri": "https://localhost:8080/",
          "height": 355
        },
        "outputId": "9f02b857-cc29-4ace-8a09-3e6d17382d48"
      },
      "source": [
        "\n",
        "#number of messages sent per user\n",
        "mes2=df.authors.value_counts()[:10]\n",
        "mes2\n",
        "bar_graph(mes2.values,mes2.index,'Number of messages sent per user','users','Number of messages')\n"
      ],
      "execution_count": 31,
      "outputs": [
        {
          "output_type": "stream",
          "text": [
            "/usr/local/lib/python3.6/dist-packages/seaborn/_decorators.py:43: FutureWarning: Pass the following variables as keyword args: x, y. From version 0.12, the only valid positional argument will be `data`, and passing other arguments without an explicit keyword will result in an error or misinterpretation.\n",
            "  FutureWarning\n"
          ],
          "name": "stderr"
        },
        {
          "output_type": "display_data",
          "data": {
            "image/png": "[encoded data removed]",
            "text/plain": [
              "<Figure size 432x288 with 1 Axes>"
            ]
          },
          "metadata": {
            "tags": [],
            "needs_background": "light"
          }
        }
      ]
    },
    {
      "cell_type": "code",
      "metadata": {
        "colab": {
          "base_uri": "https://localhost:8080/",
          "height": 355
        },
        "id": "TtXK_NEfTOLL",
        "outputId": "75b6306d-8e72-4bbb-8824-96e5ba28039d"
      },
      "source": [
        "#authors who sent the many media files \n",
        "mes3=media.authors.value_counts()[:10]\n",
        "bar_graph(mes3.values,mes3.index,'Number of media messages  per user','users','Number of  messages')\n"
      ],
      "execution_count": 37,
      "outputs": [
        {
          "output_type": "stream",
          "text": [
            "/usr/local/lib/python3.6/dist-packages/seaborn/_decorators.py:43: FutureWarning: Pass the following variables as keyword args: x, y. From version 0.12, the only valid positional argument will be `data`, and passing other arguments without an explicit keyword will result in an error or misinterpretation.\n",
            "  FutureWarning\n"
          ],
          "name": "stderr"
        },
        {
          "output_type": "display_data",
          "data": {
            "image/png": "[encoded data removed]",
            "text/plain": [
              "<Figure size 432x288 with 1 Axes>"
            ]
          },
          "metadata": {
            "tags": [],
            "needs_background": "light"
          }
        }
      ]
    },
    {
      "cell_type": "code",
      "metadata": {
        "colab": {
          "base_uri": "https://localhost:8080/",
          "height": 355
        },
        "id": "orWdk6fl4oBk",
        "outputId": "0fb4f88b-6507-413d-88a4-1e8c6a3fddf9"
      },
      "source": [
        "#authors who deleted most of their messages\n",
        "mes4=deleted.authors.value_counts()[:10]\n",
        "bar_graph(mes4.values,mes4.index,'Number of deleted messages  per user','users','Number of messages')"
      ],
      "execution_count": 38,
      "outputs": [
        {
          "output_type": "stream",
          "text": [
            "/usr/local/lib/python3.6/dist-packages/seaborn/_decorators.py:43: FutureWarning: Pass the following variables as keyword args: x, y. From version 0.12, the only valid positional argument will be `data`, and passing other arguments without an explicit keyword will result in an error or misinterpretation.\n",
            "  FutureWarning\n"
          ],
          "name": "stderr"
        },
        {
          "output_type": "display_data",
          "data": {
            "image/png": "[encoded data removed]",
            "text/plain": [
              "<Figure size 432x288 with 1 Axes>"
            ]
          },
          "metadata": {
            "tags": [],
            "needs_background": "light"
          }
        }
      ]
    },
    {
      "cell_type": "code",
      "metadata": {
        "colab": {
          "base_uri": "https://localhost:8080/",
          "height": 355
        },
        "id": "sTyTVSP5J83i",
        "outputId": "169c223f-ff56-4be2-8193-1a2d3ad38771"
      },
      "source": [
        "#length of messages\n",
        "df['length']=df.messages.apply(lambda x: len(x))\n",
        "lens=df.groupby(['authors']).length\n",
        "authors=df.authors.unique()\n",
        "average_len={name:round(lens.get_group(name).mean()) for name in authors}\n",
        "average_len=pd.DataFrame(average_len.items(),columns=['author','avg'])\n",
        "average_len= average_len.sort_values(by=['avg'],ascending=False)\n",
        "\n",
        "bar_graph(average_len[:10].avg.values,average_len[:10].author.values,'Average length of messages per user','users','average length of messages')\n"
      ],
      "execution_count": 36,
      "outputs": [
        {
          "output_type": "stream",
          "text": [
            "/usr/local/lib/python3.6/dist-packages/seaborn/_decorators.py:43: FutureWarning: Pass the following variables as keyword args: x, y. From version 0.12, the only valid positional argument will be `data`, and passing other arguments without an explicit keyword will result in an error or misinterpretation.\n",
            "  FutureWarning\n"
          ],
          "name": "stderr"
        },
        {
          "output_type": "display_data",
          "data": {
            "image/png": "[encoded data removed]",
            "text/plain": [
              "<Figure size 432x288 with 1 Axes>"
            ]
          },
          "metadata": {
            "tags": [],
            "needs_background": "light"
          }
        }
      ]
    },
    {
      "cell_type": "code",
      "metadata": {
        "colab": {
          "base_uri": "https://localhost:8080/",
          "height": 267
        },
        "id": "V73XuzLTuJYX",
        "outputId": "90c69784-1990-4536-afbe-851cb2332ad8"
      },
      "source": [
        "#messages sent during times of the day\n",
        "new_df=df.sort_values('times')\n",
        "tim=dict(new_df.times.value_counts())\n",
        "tim=pd.DataFrame(tim.items(),columns=['times','counts'])\n",
        "tim=tim.sort_values(by=['times'],ascending=True)\n",
        "\n",
        "# create the time series plot \n",
        "fig,ax = plt.subplots(figsize=(23,4))\n",
        "sns.lineplot(x =tim.times , y = tim.counts, ax=ax,data = tim) \n",
        "ax.set_xscale('linear')\n",
        "ax.set(xlim=(0, 23))\n",
        "  "
      ],
      "execution_count": null,
      "outputs": [
        {
          "output_type": "execute_result",
          "data": {
            "text/plain": [
              "[(0.0, 23.0)]"
            ]
          },
          "metadata": {
            "tags": []
          },
          "execution_count": 145
        },
        {
          "output_type": "display_data",
          "data": {
            "image/png": "[encoded data removed]",
            "text/plain": [
              "<Figure size 1656x288 with 1 Axes>"
            ]
          },
          "metadata": {
            "tags": [],
            "needs_background": "light"
          }
        }
      ]
    },
    {
      "cell_type": "code",
      "metadata": {
        "colab": {
          "base_uri": "https://localhost:8080/",
          "height": 279
        },
        "id": "oxdz7yd4uJin",
        "outputId": "d04f90fb-2017-4fab-e22e-ee2855b36aa2"
      },
      "source": [
        "#messages sent during times of the day\n",
        "new_df=df.sort_values('times')\n",
        "tim=dict(new_df.dates.value_counts())\n",
        "tim=pd.DataFrame(tim.items(),columns=['dates','counts'])\n",
        "tim=tim.sort_values(by=['dates'],ascending=True)\n",
        "\n",
        "# create the time series plot \n",
        "fig,ax = plt.subplots(figsize=(20,4))\n",
        "sns.lineplot(x =tim.dates , y = tim.counts, ax=ax,data = tim) \n",
        "ax.set(xlim=(0, 12))\n",
        "ax.set_xscale('linear')"
      ],
      "execution_count": null,
      "outputs": [
        {
          "output_type": "display_data",
          "data": {
            "image/png": "[encoded data removed]",
            "text/plain": [
              "<Figure size 1440x288 with 1 Axes>"
            ]
          },
          "metadata": {
            "tags": [],
            "needs_background": "light"
          }
        }
      ]
    },
    {
      "cell_type": "code",
      "metadata": {
        "id": "Z-M6AjeYuJsA"
      },
      "source": [
        ""
      ],
      "execution_count": null,
      "outputs": []
    },
    {
      "cell_type": "code",
      "metadata": {
        "id": "lv_jiDBluJ1Y"
      },
      "source": [
        ""
      ],
      "execution_count": null,
      "outputs": []
    }
  ]
}